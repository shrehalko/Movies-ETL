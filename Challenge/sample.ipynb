{
 "cells": [
  {
   "cell_type": "code",
   "execution_count": 22,
   "id": "fa78e5e3",
   "metadata": {},
   "outputs": [
    {
     "name": "stdout",
     "output_type": "stream",
     "text": [
      "The original dictionary is : {'a': 1, 'b': 2}\n",
      "The default function call yields : \n",
      "The value of a is : 4\n",
      "The value of b is : 5\n",
      "\r\n",
      "The function values with splat operator unpacking : \n",
      "The value of a is : 1\n",
      "The value of b is : 2\n"
     ]
    }
   ],
   "source": [
    "# Python3 code to demonstrate working of\n",
    "# Passing dictionary as keyword arguments\n",
    "# Using ** ( splat ) operator\n",
    "  \n",
    "# Helper function to demo this task\n",
    "def test_func(a = 4, b = 5):\n",
    "    print(\"The value of a is : \" + str(a))\n",
    "    print(\"The value of b is : \" + str(b))\n",
    "  \n",
    "# initializing dictionary\n",
    "test_dict = {'a' : 1, 'b' : 2}\n",
    "  \n",
    "# printing original dictionary\n",
    "print(\"The original dictionary is : \" + str(test_dict))\n",
    "  \n",
    "# Testing with default values \n",
    "print(\"The default function call yields : \")\n",
    "test_func()\n",
    "  \n",
    "print(\"\\r\")\n",
    "  \n",
    "# Passing dictionary as keyword arguments\n",
    "# Using ** ( splat ) operator\n",
    "print(\"The function values with splat operator unpacking : \")\n",
    "test_func(**test_dict)"
   ]
  },
  {
   "cell_type": "code",
   "execution_count": 168,
   "id": "ebabe3cc",
   "metadata": {},
   "outputs": [
    {
     "name": "stdout",
     "output_type": "stream",
     "text": [
      "key: a Value: 1\n",
      "key: b Value: 2\n",
      "key: c Value: 3\n"
     ]
    }
   ],
   "source": [
    "def func(d):\n",
    "    #movie = d  \n",
    "    for key,j in d.items():\n",
    "        print(\"key:\", key, \"Value:\", j)\n",
    "          \n",
    "# Driver's code\n",
    "D = {'a':1, 'b':2, 'c':3}\n",
    "func(D)"
   ]
  },
  {
   "cell_type": "code",
   "execution_count": 172,
   "id": "b6fe5e18",
   "metadata": {},
   "outputs": [
    {
     "ename": "SyntaxError",
     "evalue": "invalid syntax (Temp/ipykernel_16068/568053280.py, line 9)",
     "output_type": "error",
     "traceback": [
      "\u001b[1;36m  File \u001b[1;32m\"C:\\Users\\shreh\\AppData\\Local\\Temp/ipykernel_16068/568053280.py\"\u001b[1;36m, line \u001b[1;32m9\u001b[0m\n\u001b[1;33m    display(\"fname\" : \"John\",\u001b[0m\n\u001b[1;37m                    ^\u001b[0m\n\u001b[1;31mSyntaxError\u001b[0m\u001b[1;31m:\u001b[0m invalid syntax\n"
     ]
    }
   ],
   "source": [
    "def display(*name):\n",
    "      \n",
    "    print (name[\"fname\"]+\" \"+name[\"mname\"]+\" \"+name[\"lname\"])\n",
    "\n",
    "def main():\n",
    "      \n",
    "    # passing dictionary key-value \n",
    "    # pair as arguments\n",
    "    display(\"fname\" : \"John\",\n",
    "            \"mname\" :\"F.\", \n",
    "            \"lname\" :\"Kennedy\")\n",
    "# Driver's code\n",
    "main()"
   ]
  },
  {
   "cell_type": "code",
   "execution_count": 37,
   "id": "4b5bc3f2",
   "metadata": {},
   "outputs": [
    {
     "name": "stdout",
     "output_type": "stream",
     "text": [
      "3\n",
      "2\n"
     ]
    }
   ],
   "source": [
    "def num(**n):\n",
    "    print(n['i'])\n",
    "    print(n['j'])\n",
    "    \n",
    "num(j = 2, i = 3)"
   ]
  },
  {
   "cell_type": "code",
   "execution_count": 43,
   "id": "b5565474",
   "metadata": {},
   "outputs": [
    {
     "name": "stdout",
     "output_type": "stream",
     "text": [
      "a 1\n",
      "b 2\n",
      "c 3\n",
      "d 4\n"
     ]
    }
   ],
   "source": [
    "def num(**n):\n",
    "    for i,j in n.items():\n",
    "        print(i,j)\n",
    "num(a=1,b=2,c=3,d=4)\n",
    "#num(1,2,3,4)    "
   ]
  },
  {
   "cell_type": "code",
   "execution_count": 110,
   "id": "4f6141de",
   "metadata": {},
   "outputs": [],
   "source": [
    "wiki_movies_raw = [{ 'director': '  ','directed by': '  ', 'imdb': 'test_imdb'},\n",
    "         { 'director': 'test1','directed by': ' ', 'imdb': 'test_imdb1'},\n",
    "         { 'director': 'test2','directed by': 'test by2'}]"
   ]
  },
  {
   "cell_type": "code",
   "execution_count": 111,
   "id": "e2998a72",
   "metadata": {},
   "outputs": [
    {
     "name": "stdout",
     "output_type": "stream",
     "text": [
      "[{'director': '  ', 'directed by': '  ', 'imdb': 'test_imdb'}, {'director': 'test1', 'directed by': ' ', 'imdb': 'test_imdb1'}]\n"
     ]
    }
   ],
   "source": [
    "wiki_movies = [movie for movie in wiki_movies_raw\n",
    "               if ('director' in movie or 'directed by' in movie)\n",
    "                   and 'imdb' in movie]\n",
    "print(wiki_movies)"
   ]
  },
  {
   "cell_type": "code",
   "execution_count": 112,
   "id": "6d7d9454",
   "metadata": {},
   "outputs": [
    {
     "name": "stdout",
     "output_type": "stream",
     "text": [
      "<class 'list'>\n"
     ]
    }
   ],
   "source": [
    "print(type(wiki_movies))"
   ]
  },
  {
   "cell_type": "code",
   "execution_count": 114,
   "id": "fd878a28",
   "metadata": {},
   "outputs": [],
   "source": [
    "wiki_movies = { 'director': 'test ','directed by': 'test by ', 'imdb': 'https://www.imdb.com/title/tt0098987/'}\n",
    "def change_column_name(old_name, new_name):\n",
    "    if old_name in wiki_movies:\n",
    "        wiki_movies[new_name] = wiki_movies.pop(old_name)"
   ]
  },
  {
   "cell_type": "code",
   "execution_count": 85,
   "id": "0a30c931",
   "metadata": {},
   "outputs": [],
   "source": [
    "change_column_name('directed by', 'director')"
   ]
  },
  {
   "cell_type": "code",
   "execution_count": 86,
   "id": "b3ab1045",
   "metadata": {},
   "outputs": [
    {
     "name": "stdout",
     "output_type": "stream",
     "text": [
      "{'director': 'test by ', 'imdb': 'test_imdb'}\n"
     ]
    }
   ],
   "source": [
    "print(wiki_movies)"
   ]
  },
  {
   "cell_type": "code",
   "execution_count": 79,
   "id": "2d1dc6af",
   "metadata": {},
   "outputs": [
    {
     "data": {
      "text/plain": [
       "{'director': 'test ',\n",
       " 'directed by': 'test by ',\n",
       " 'imdb': 'test_imdb',\n",
       " 'alt_tit': {'a': 1, 'b': 2}}"
      ]
     },
     "execution_count": 79,
     "metadata": {},
     "output_type": "execute_result"
    }
   ],
   "source": [
    "wiki_movies = { 'director': 'test ','directed by': 'test by ', 'imdb': 'test_imdb'}\n",
    "alt_titles = {'a':1,'b':2}\n",
    "wiki_movies['alt_tit'] = alt_titles\n",
    "wiki_movies"
   ]
  },
  {
   "cell_type": "code",
   "execution_count": 80,
   "id": "ec3baeda",
   "metadata": {},
   "outputs": [
    {
     "data": {
      "text/plain": [
       "'test '"
      ]
     },
     "execution_count": 80,
     "metadata": {},
     "output_type": "execute_result"
    }
   ],
   "source": [
    "wiki_movies['director']"
   ]
  },
  {
   "cell_type": "code",
   "execution_count": 91,
   "id": "ec49107f",
   "metadata": {},
   "outputs": [],
   "source": [
    "import pandas as pd"
   ]
  },
  {
   "cell_type": "code",
   "execution_count": 105,
   "id": "41cb87be",
   "metadata": {},
   "outputs": [
    {
     "data": {
      "text/plain": [
       "dict_items([('director', 'test '), ('directed by', 'test by '), ('imdb', 'https://www.imdb.com/title/tt0098987/')])"
      ]
     },
     "execution_count": 105,
     "metadata": {},
     "output_type": "execute_result"
    }
   ],
   "source": [
    "wiki_movies.items()"
   ]
  },
  {
   "cell_type": "code",
   "execution_count": 115,
   "id": "a6999158",
   "metadata": {},
   "outputs": [],
   "source": [
    "wiki_movies_df = pd.DataFrame(wiki_movies.items())"
   ]
  },
  {
   "cell_type": "code",
   "execution_count": 116,
   "id": "219aa7ec",
   "metadata": {},
   "outputs": [
    {
     "data": {
      "text/html": [
       "<div>\n",
       "<style scoped>\n",
       "    .dataframe tbody tr th:only-of-type {\n",
       "        vertical-align: middle;\n",
       "    }\n",
       "\n",
       "    .dataframe tbody tr th {\n",
       "        vertical-align: top;\n",
       "    }\n",
       "\n",
       "    .dataframe thead th {\n",
       "        text-align: right;\n",
       "    }\n",
       "</style>\n",
       "<table border=\"1\" class=\"dataframe\">\n",
       "  <thead>\n",
       "    <tr style=\"text-align: right;\">\n",
       "      <th></th>\n",
       "      <th>0</th>\n",
       "      <th>1</th>\n",
       "    </tr>\n",
       "  </thead>\n",
       "  <tbody>\n",
       "    <tr>\n",
       "      <th>0</th>\n",
       "      <td>director</td>\n",
       "      <td>test</td>\n",
       "    </tr>\n",
       "    <tr>\n",
       "      <th>1</th>\n",
       "      <td>directed by</td>\n",
       "      <td>test by</td>\n",
       "    </tr>\n",
       "    <tr>\n",
       "      <th>2</th>\n",
       "      <td>imdb</td>\n",
       "      <td>https://www.imdb.com/title/tt0098987/</td>\n",
       "    </tr>\n",
       "  </tbody>\n",
       "</table>\n",
       "</div>"
      ],
      "text/plain": [
       "             0                                      1\n",
       "0     director                                  test \n",
       "1  directed by                               test by \n",
       "2         imdb  https://www.imdb.com/title/tt0098987/"
      ]
     },
     "execution_count": 116,
     "metadata": {},
     "output_type": "execute_result"
    }
   ],
   "source": [
    "wiki_movies_df"
   ]
  },
  {
   "cell_type": "code",
   "execution_count": 119,
   "id": "9457b74e",
   "metadata": {},
   "outputs": [],
   "source": [
    "wiki_movies_df = pd.DataFrame([wiki_movies])\n"
   ]
  },
  {
   "cell_type": "code",
   "execution_count": 118,
   "id": "85bc8eaa",
   "metadata": {},
   "outputs": [
    {
     "name": "stdout",
     "output_type": "stream",
     "text": [
      "[{'director': 'test ', 'directed by': 'test by ', 'imdb': 'https://www.imdb.com/title/tt0098987/'}]\n"
     ]
    }
   ],
   "source": [
    "print([wiki_movies])"
   ]
  },
  {
   "cell_type": "code",
   "execution_count": 120,
   "id": "fb256e3a",
   "metadata": {},
   "outputs": [
    {
     "data": {
      "text/html": [
       "<div>\n",
       "<style scoped>\n",
       "    .dataframe tbody tr th:only-of-type {\n",
       "        vertical-align: middle;\n",
       "    }\n",
       "\n",
       "    .dataframe tbody tr th {\n",
       "        vertical-align: top;\n",
       "    }\n",
       "\n",
       "    .dataframe thead th {\n",
       "        text-align: right;\n",
       "    }\n",
       "</style>\n",
       "<table border=\"1\" class=\"dataframe\">\n",
       "  <thead>\n",
       "    <tr style=\"text-align: right;\">\n",
       "      <th></th>\n",
       "      <th>director</th>\n",
       "      <th>directed by</th>\n",
       "      <th>imdb</th>\n",
       "    </tr>\n",
       "  </thead>\n",
       "  <tbody>\n",
       "    <tr>\n",
       "      <th>0</th>\n",
       "      <td>test</td>\n",
       "      <td>test by</td>\n",
       "      <td>https://www.imdb.com/title/tt0098987/</td>\n",
       "    </tr>\n",
       "  </tbody>\n",
       "</table>\n",
       "</div>"
      ],
      "text/plain": [
       "  director directed by                                   imdb\n",
       "0    test     test by   https://www.imdb.com/title/tt0098987/"
      ]
     },
     "execution_count": 120,
     "metadata": {},
     "output_type": "execute_result"
    }
   ],
   "source": [
    "wiki_movies_df"
   ]
  },
  {
   "cell_type": "code",
   "execution_count": 102,
   "id": "2680d7a2",
   "metadata": {},
   "outputs": [],
   "source": [
    "wiki_movies_df['imdb_id'] = wiki_movies_df['imdb'].str.extract(r'(tt\\d{7})')"
   ]
  },
  {
   "cell_type": "code",
   "execution_count": 103,
   "id": "24b65a9c",
   "metadata": {},
   "outputs": [
    {
     "data": {
      "text/html": [
       "<div>\n",
       "<style scoped>\n",
       "    .dataframe tbody tr th:only-of-type {\n",
       "        vertical-align: middle;\n",
       "    }\n",
       "\n",
       "    .dataframe tbody tr th {\n",
       "        vertical-align: top;\n",
       "    }\n",
       "\n",
       "    .dataframe thead th {\n",
       "        text-align: right;\n",
       "    }\n",
       "</style>\n",
       "<table border=\"1\" class=\"dataframe\">\n",
       "  <thead>\n",
       "    <tr style=\"text-align: right;\">\n",
       "      <th></th>\n",
       "      <th>director</th>\n",
       "      <th>directed by</th>\n",
       "      <th>imdb</th>\n",
       "      <th>imdb_id</th>\n",
       "    </tr>\n",
       "  </thead>\n",
       "  <tbody>\n",
       "    <tr>\n",
       "      <th>0</th>\n",
       "      <td>test</td>\n",
       "      <td>test by</td>\n",
       "      <td>https://www.imdb.com/title/tt0098987/</td>\n",
       "      <td>tt0098987</td>\n",
       "    </tr>\n",
       "  </tbody>\n",
       "</table>\n",
       "</div>"
      ],
      "text/plain": [
       "  director directed by                                   imdb    imdb_id\n",
       "0    test     test by   https://www.imdb.com/title/tt0098987/  tt0098987"
      ]
     },
     "execution_count": 103,
     "metadata": {},
     "output_type": "execute_result"
    }
   ],
   "source": [
    "wiki_movies_df"
   ]
  },
  {
   "cell_type": "code",
   "execution_count": 134,
   "id": "b9aa2c12",
   "metadata": {},
   "outputs": [],
   "source": [
    "box_office = ['$5 million', ['$6,698,361 (, United States, ), [2]'], '$35.8 million',['US$, 4,212,828']]\n"
   ]
  },
  {
   "cell_type": "code",
   "execution_count": 135,
   "id": "67ca722c",
   "metadata": {},
   "outputs": [
    {
     "data": {
      "text/plain": [
       "0                               $5 million\n",
       "1    [$6,698,361 (, United States, ), [2]]\n",
       "2                            $35.8 million\n",
       "3                         [US$, 4,212,828]\n",
       "dtype: object"
      ]
     },
     "execution_count": 135,
     "metadata": {},
     "output_type": "execute_result"
    }
   ],
   "source": [
    "box_office1 = pd.Series(box_office) \n",
    "box_office1"
   ]
  },
  {
   "cell_type": "code",
   "execution_count": 136,
   "id": "5f150b07",
   "metadata": {},
   "outputs": [
    {
     "data": {
      "text/plain": [
       "pandas.core.series.Series"
      ]
     },
     "execution_count": 136,
     "metadata": {},
     "output_type": "execute_result"
    }
   ],
   "source": [
    "type(box_office1)"
   ]
  },
  {
   "cell_type": "code",
   "execution_count": 142,
   "id": "a39af7d1",
   "metadata": {},
   "outputs": [],
   "source": [
    "def is_not_a_string(x):\n",
    "    return type(x) != str"
   ]
  },
  {
   "cell_type": "code",
   "execution_count": 143,
   "id": "b0fde160",
   "metadata": {},
   "outputs": [
    {
     "data": {
      "text/plain": [
       "1    [$6,698,361 (, United States, ), [2]]\n",
       "3                         [US$, 4,212,828]\n",
       "dtype: object"
      ]
     },
     "execution_count": 143,
     "metadata": {},
     "output_type": "execute_result"
    }
   ],
   "source": [
    "box_office1[box_office1.apply(is_not_a_string)]"
   ]
  },
  {
   "cell_type": "code",
   "execution_count": 146,
   "id": "f1f54e7e",
   "metadata": {},
   "outputs": [],
   "source": [
    "import numpy as np"
   ]
  },
  {
   "cell_type": "code",
   "execution_count": 147,
   "id": "b6b190e3",
   "metadata": {},
   "outputs": [
    {
     "data": {
      "text/html": [
       "<div>\n",
       "<style scoped>\n",
       "    .dataframe tbody tr th:only-of-type {\n",
       "        vertical-align: middle;\n",
       "    }\n",
       "\n",
       "    .dataframe tbody tr th {\n",
       "        vertical-align: top;\n",
       "    }\n",
       "\n",
       "    .dataframe thead th {\n",
       "        text-align: right;\n",
       "    }\n",
       "</style>\n",
       "<table border=\"1\" class=\"dataframe\">\n",
       "  <thead>\n",
       "    <tr style=\"text-align: right;\">\n",
       "      <th></th>\n",
       "      <th>b</th>\n",
       "      <th>d</th>\n",
       "      <th>e</th>\n",
       "    </tr>\n",
       "  </thead>\n",
       "  <tbody>\n",
       "    <tr>\n",
       "      <th>Utah</th>\n",
       "      <td>-0.725342</td>\n",
       "      <td>-1.036949</td>\n",
       "      <td>1.596454</td>\n",
       "    </tr>\n",
       "    <tr>\n",
       "      <th>Ohio</th>\n",
       "      <td>-0.134155</td>\n",
       "      <td>-1.279870</td>\n",
       "      <td>-0.489321</td>\n",
       "    </tr>\n",
       "    <tr>\n",
       "      <th>Texas</th>\n",
       "      <td>0.518326</td>\n",
       "      <td>-0.251887</td>\n",
       "      <td>-1.537925</td>\n",
       "    </tr>\n",
       "    <tr>\n",
       "      <th>Oregon</th>\n",
       "      <td>-0.873364</td>\n",
       "      <td>1.345118</td>\n",
       "      <td>0.875318</td>\n",
       "    </tr>\n",
       "  </tbody>\n",
       "</table>\n",
       "</div>"
      ],
      "text/plain": [
       "               b         d         e\n",
       "Utah   -0.725342 -1.036949  1.596454\n",
       "Ohio   -0.134155 -1.279870 -0.489321\n",
       "Texas   0.518326 -0.251887 -1.537925\n",
       "Oregon -0.873364  1.345118  0.875318"
      ]
     },
     "execution_count": 147,
     "metadata": {},
     "output_type": "execute_result"
    }
   ],
   "source": [
    "frame = pd.DataFrame(np.random.randn(4, 3), columns=list('bde'), index=['Utah', 'Ohio', 'Texas', 'Oregon'])\n",
    "frame"
   ]
  },
  {
   "cell_type": "code",
   "execution_count": 156,
   "id": "9d7c924e",
   "metadata": {},
   "outputs": [
    {
     "data": {
      "text/plain": [
       "b    1.391689\n",
       "d    2.624987\n",
       "e    3.134379\n",
       "dtype: float64"
      ]
     },
     "execution_count": 156,
     "metadata": {},
     "output_type": "execute_result"
    }
   ],
   "source": [
    "f = lambda x: x.max() - x.min()\n",
    "frame.map(f)\n",
    "#frame['b'].apply(f)"
   ]
  },
  {
   "cell_type": "code",
   "execution_count": 149,
   "id": "ae882698",
   "metadata": {},
   "outputs": [
    {
     "data": {
      "text/plain": [
       "1.39169"
      ]
     },
     "execution_count": 149,
     "metadata": {},
     "output_type": "execute_result"
    }
   ],
   "source": [
    "0.518326 - (-0.873364)"
   ]
  },
  {
   "cell_type": "code",
   "execution_count": 174,
   "id": "7c60ed66",
   "metadata": {},
   "outputs": [
    {
     "data": {
      "text/html": [
       "<div>\n",
       "<style scoped>\n",
       "    .dataframe tbody tr th:only-of-type {\n",
       "        vertical-align: middle;\n",
       "    }\n",
       "\n",
       "    .dataframe tbody tr th {\n",
       "        vertical-align: top;\n",
       "    }\n",
       "\n",
       "    .dataframe thead th {\n",
       "        text-align: right;\n",
       "    }\n",
       "</style>\n",
       "<table border=\"1\" class=\"dataframe\">\n",
       "  <thead>\n",
       "    <tr style=\"text-align: right;\">\n",
       "      <th></th>\n",
       "      <th>b</th>\n",
       "      <th>d</th>\n",
       "      <th>e</th>\n",
       "    </tr>\n",
       "  </thead>\n",
       "  <tbody>\n",
       "    <tr>\n",
       "      <th>Utah</th>\n",
       "      <td>-0.73</td>\n",
       "      <td>-1.04</td>\n",
       "      <td>1.60</td>\n",
       "    </tr>\n",
       "    <tr>\n",
       "      <th>Ohio</th>\n",
       "      <td>-0.13</td>\n",
       "      <td>-1.28</td>\n",
       "      <td>-0.49</td>\n",
       "    </tr>\n",
       "    <tr>\n",
       "      <th>Texas</th>\n",
       "      <td>0.52</td>\n",
       "      <td>-0.25</td>\n",
       "      <td>-1.54</td>\n",
       "    </tr>\n",
       "    <tr>\n",
       "      <th>Oregon</th>\n",
       "      <td>-0.87</td>\n",
       "      <td>1.35</td>\n",
       "      <td>0.88</td>\n",
       "    </tr>\n",
       "  </tbody>\n",
       "</table>\n",
       "</div>"
      ],
      "text/plain": [
       "            b      d      e\n",
       "Utah    -0.73  -1.04   1.60\n",
       "Ohio    -0.13  -1.28  -0.49\n",
       "Texas    0.52  -0.25  -1.54\n",
       "Oregon  -0.87   1.35   0.88"
      ]
     },
     "execution_count": 174,
     "metadata": {},
     "output_type": "execute_result"
    }
   ],
   "source": [
    "format = lambda x: '%.2f' % x\n",
    "frame.applymap(format)"
   ]
  },
  {
   "cell_type": "code",
   "execution_count": 159,
   "id": "df888b99",
   "metadata": {},
   "outputs": [
    {
     "data": {
      "text/plain": [
       "Utah       1.60\n",
       "Ohio      -0.49\n",
       "Texas     -1.54\n",
       "Oregon     0.88\n",
       "Name: e, dtype: object"
      ]
     },
     "execution_count": 159,
     "metadata": {},
     "output_type": "execute_result"
    }
   ],
   "source": [
    "frame['e'].map(format)"
   ]
  },
  {
   "cell_type": "code",
   "execution_count": 186,
   "id": "e8f8c159",
   "metadata": {},
   "outputs": [],
   "source": [
    "box_office = pd.Series(['$5 million', ['$6,698,361 (, United States, ), [2]'], '$35.8 million',['US$, 4,212,828']])"
   ]
  },
  {
   "cell_type": "code",
   "execution_count": 187,
   "id": "47c3fccc",
   "metadata": {},
   "outputs": [],
   "source": [
    "running_time = box_office.apply(lambda x: '  '.join(x) if type(x) == list else x)"
   ]
  },
  {
   "cell_type": "code",
   "execution_count": 188,
   "id": "328fc885",
   "metadata": {},
   "outputs": [
    {
     "data": {
      "text/plain": [
       "0                             $5 million\n",
       "1    $6,698,361 (, United States, ), [2]\n",
       "2                          $35.8 million\n",
       "3                         US$, 4,212,828\n",
       "dtype: object"
      ]
     },
     "execution_count": 188,
     "metadata": {},
     "output_type": "execute_result"
    }
   ],
   "source": [
    "running_time"
   ]
  },
  {
   "cell_type": "code",
   "execution_count": null,
   "id": "cf0f3fd4",
   "metadata": {},
   "outputs": [],
   "source": []
  }
 ],
 "metadata": {
  "kernelspec": {
   "display_name": "Python 3 (ipykernel)",
   "language": "python",
   "name": "python3"
  },
  "language_info": {
   "codemirror_mode": {
    "name": "ipython",
    "version": 3
   },
   "file_extension": ".py",
   "mimetype": "text/x-python",
   "name": "python",
   "nbconvert_exporter": "python",
   "pygments_lexer": "ipython3",
   "version": "3.7.11"
  }
 },
 "nbformat": 4,
 "nbformat_minor": 5
}
